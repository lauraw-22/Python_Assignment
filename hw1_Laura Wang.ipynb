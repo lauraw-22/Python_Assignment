{
 "cells": [
  {
   "cell_type": "markdown",
   "metadata": {},
   "source": [
    "### Python Home Work 1 \n",
    "### Laura Wang"
   ]
  },
  {
   "cell_type": "markdown",
   "metadata": {},
   "source": [
    "### Problem 1:"
   ]
  },
  {
   "cell_type": "markdown",
   "metadata": {},
   "source": [
    "##### (a) [1,2,3,...,19,20]"
   ]
  },
  {
   "cell_type": "code",
   "execution_count": 3,
   "metadata": {
    "scrolled": true
   },
   "outputs": [
    {
     "name": "stdout",
     "output_type": "stream",
     "text": [
      "[1, 2, 3, 4, 5, 6, 7, 8, 9, 10, 11, 12, 13, 14, 15, 16, 17, 18, 19, 20]\n"
     ]
    }
   ],
   "source": [
    "a = list(range(1,21))\n",
    "print(a)"
   ]
  },
  {
   "cell_type": "markdown",
   "metadata": {},
   "source": [
    "##### (b) [20,19,...,2,1]"
   ]
  },
  {
   "cell_type": "code",
   "execution_count": 4,
   "metadata": {},
   "outputs": [
    {
     "name": "stdout",
     "output_type": "stream",
     "text": [
      "[20, 19, 18, 17, 16, 15, 14, 13, 12, 11, 10, 9, 8, 7, 6, 5, 4, 3, 2, 1]\n"
     ]
    }
   ],
   "source": [
    "b = a[:]  # or b = a.copy()\n",
    "b.reverse()\n",
    "print(b)"
   ]
  },
  {
   "cell_type": "markdown",
   "metadata": {},
   "source": [
    "##### (c) [1,2,3,...,19,20,19,18,...,2,1]"
   ]
  },
  {
   "cell_type": "code",
   "execution_count": 5,
   "metadata": {
    "scrolled": true
   },
   "outputs": [
    {
     "name": "stdout",
     "output_type": "stream",
     "text": [
      "[1, 2, 3, 4, 5, 6, 7, 8, 9, 10, 11, 12, 13, 14, 15, 16, 17, 18, 19, 20, 19, 18, 17, 16, 15, 14, 13, 12, 11, 10, 9, 8, 7, 6, 5, 4, 3, 2, 1]\n"
     ]
    }
   ],
   "source": [
    "c = a[:]+b[1:21]\n",
    "print(c)"
   ]
  },
  {
   "cell_type": "markdown",
   "metadata": {},
   "source": [
    "##### For parts (d) and (e) try the syntax “N * [val1,val2]” and the del command.\n",
    "##### (d) [4,6,3, 4,6,3,...,4,6,3] where there are 10 occurrences of 4."
   ]
  },
  {
   "cell_type": "code",
   "execution_count": 6,
   "metadata": {},
   "outputs": [
    {
     "name": "stdout",
     "output_type": "stream",
     "text": [
      "[4, 6, 3, 4, 6, 3, 4, 6, 3, 4, 6, 3]\n"
     ]
    }
   ],
   "source": [
    "d = [4,6,3]*4\n",
    "print(d)"
   ]
  },
  {
   "cell_type": "markdown",
   "metadata": {},
   "source": [
    "##### (e) [4,6,3, 4,6,3,...,4,6,3,4] where there are 11 occurrences of 4, 10 occurrences of 6 and 10 occur- rences of 3."
   ]
  },
  {
   "cell_type": "code",
   "execution_count": 8,
   "metadata": {},
   "outputs": [
    {
     "name": "stdout",
     "output_type": "stream",
     "text": [
      "[4, 6, 3, 4, 6, 3, 4, 6, 3, 4, 6, 3, 4, 6, 3, 4, 6, 3, 4, 6, 3, 4, 6, 3, 4, 6, 3, 4, 6, 3, 4]\n"
     ]
    }
   ],
   "source": [
    "e = [4,6,3]*10+[4]\n",
    "print(e)\n",
    "del e"
   ]
  },
  {
   "cell_type": "markdown",
   "metadata": {},
   "source": [
    "### Problem 2:"
   ]
  },
  {
   "cell_type": "code",
   "execution_count": 9,
   "metadata": {},
   "outputs": [
    {
     "name": "stdout",
     "output_type": "stream",
     "text": [
      "[-19.884530844146987, -22.178753389342127, -24.490696732801293, -26.77318244299338, -28.969237768093574, -31.011186439374516, -32.819774760338504, -34.30336011037369, -35.35719361853035, -35.86283371230767, -35.68773248011913, -34.68504225166807, -32.693695428321746, -29.538816297262983, -25.032529229039966, -18.97523315495896, -11.157417389647478, -1.3620985182057503, 10.632038010191998, 25.046704998273, 42.0992010625384, 61.99663027669454, 84.92906736250268, 111.06158604202605, 140.52507505278749, 173.40577640857734, 209.73349424783467, 249.46844055885668, 292.4867067371227, 338.5643778585117, 387.3603402909308]\n"
     ]
    }
   ],
   "source": [
    "import numpy as np\n",
    "\n",
    "num_list=[x*0.1+3 for x in range(0, 31)]\n",
    "new_list=[np.exp(x)*np.cos(x) for x in num_list]\n",
    "print(new_list)"
   ]
  },
  {
   "cell_type": "markdown",
   "metadata": {},
   "source": [
    "### Problem 3:"
   ]
  },
  {
   "cell_type": "code",
   "execution_count": 11,
   "metadata": {},
   "outputs": [
    {
     "name": "stdout",
     "output_type": "stream",
     "text": [
      "[2.0, 2.0, 2.6666666666666665, 4.0, 6.4, 10.666666666666666, 18.285714285714285, 32.0, 56.888888888888886, 102.4, 186.1818181818182, 341.3333333333333, 630.1538461538462, 1170.2857142857142, 2184.5333333333333, 4096.0, 7710.117647058823, 14563.555555555555, 27594.105263157893, 52428.8, 99864.38095238095, 190650.18181818182, 364722.0869565217, 699050.6666666666, 1342177.28]\n"
     ]
    }
   ],
   "source": [
    "list_3 = [2**x/x for x in range(1,26)]\n",
    "print(list_3)"
   ]
  },
  {
   "cell_type": "markdown",
   "metadata": {},
   "source": [
    "### Problem 4:  Re-use your list from 1(a) as variable a. It has length n. Create these lists:"
   ]
  },
  {
   "cell_type": "markdown",
   "metadata": {},
   "source": [
    "##### (a) [a0 – an, a1 – an-1,...,an-a0]"
   ]
  },
  {
   "cell_type": "code",
   "execution_count": 12,
   "metadata": {},
   "outputs": [
    {
     "name": "stdout",
     "output_type": "stream",
     "text": [
      "[-19, -17, -15, -13, -11, -9, -7, -5, -3, -1, 1, 3, 5, 7, 9, 11, 13, 15, 17, 19]\n"
     ]
    }
   ],
   "source": [
    "list_4_a = [a[x]-a[-1-x] for x in range(len(a))]\n",
    "print(list_4_a)"
   ]
  },
  {
   "cell_type": "markdown",
   "metadata": {},
   "source": [
    "##### (b) A Boolean list where even values of a are True and odd values are False: [False, True,...]."
   ]
  },
  {
   "cell_type": "code",
   "execution_count": 13,
   "metadata": {
    "scrolled": true
   },
   "outputs": [
    {
     "name": "stdout",
     "output_type": "stream",
     "text": [
      "[False, True, False, True, False, True, False, True, False, True, False, True, False, True, False, True, False, True, False, True]\n"
     ]
    }
   ],
   "source": [
    "boolean = [(x % 2)==0 for x in a]\n",
    "print(boolean)"
   ]
  },
  {
   "cell_type": "markdown",
   "metadata": {},
   "source": [
    "### Problem 5:  Write a Python script that will open the file lorem.txt. The script will read the file and compute these quantities:\n",
    "##### (a) The number of strings whose lengths are: between 1 and 4, between 4 and 7, and 8 or greater.\n",
    "##### (b) The number of capitalized characters in the file.\n"
   ]
  },
  {
   "cell_type": "code",
   "execution_count": 17,
   "metadata": {},
   "outputs": [
    {
     "name": "stdout",
     "output_type": "stream",
     "text": [
      "The number of strings whose lengths are between 1 and 4 is: 376\n",
      "The number of strings whose lengths are between 4 and 7 is: 409\n",
      "The number of strings whose lengths are 8 or greater is: 215\n"
     ]
    }
   ],
   "source": [
    "import re\n",
    "\n",
    "## read file:\n",
    "with open('lorem.txt','r') as f:\n",
    "    all_lines = f.readlines()\n",
    "    f.close()\n",
    "\n",
    "#delimiters = ['\\n', ' ', ',', '.', '?', '!', ':', ';']\n",
    "#words = re.split(r'[;,\\s,.,:]\\s*', all_lines[0])\n",
    "#print(words)\n",
    "#words = [re.split(r'[;,\\s,.,:]\\s*', line) for line in all_lines]\n",
    "\n",
    "## solution for a:\n",
    "words = []\n",
    "for line in all_lines:\n",
    "    words.extend(re.split(r'[;,\\s,.,:]\\s*', line))\n",
    "\n",
    "words_4 =[]\n",
    "words_7 =[]\n",
    "words_8 =[]\n",
    "words_0 =[]\n",
    "for x in words:\n",
    "    if len(x)>=1 and len(x)<=4:\n",
    "        words_4.append(x)\n",
    "    elif len(x)>4 and len(x)<=7:\n",
    "        words_7.append(x)\n",
    "    elif len(x)>=8:\n",
    "        words_8.append(x)\n",
    "    else:\n",
    "        words_0.append(x)\n",
    "\n",
    "print(\"The number of strings whose lengths are between 1 and 4 is: %s\" % (len(words_4)))\n",
    "print(\"The number of strings whose lengths are between 4 and 7 is: %s\" % (len(words_7)))\n",
    "print(\"The number of strings whose lengths are 8 or greater is: %s\" % (len(words_8)))"
   ]
  },
  {
   "cell_type": "code",
   "execution_count": 15,
   "metadata": {},
   "outputs": [
    {
     "name": "stdout",
     "output_type": "stream",
     "text": [
      "The number of capitalized characters in the file is: 129\n"
     ]
    }
   ],
   "source": [
    "## solution for b:\n",
    "match = []\n",
    "for line in all_lines:\n",
    "    match.extend(re.findall('([A-Z])',line))\n",
    "\n",
    "print(\"The number of capitalized characters in the file is: %s\" % len(match))"
   ]
  }
 ],
 "metadata": {
  "kernelspec": {
   "display_name": "Python 3",
   "language": "python",
   "name": "python3"
  },
  "language_info": {
   "codemirror_mode": {
    "name": "ipython",
    "version": 3
   },
   "file_extension": ".py",
   "mimetype": "text/x-python",
   "name": "python",
   "nbconvert_exporter": "python",
   "pygments_lexer": "ipython3",
   "version": "3.6.9"
  }
 },
 "nbformat": 4,
 "nbformat_minor": 2
}
